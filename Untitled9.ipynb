{
  "nbformat": 4,
  "nbformat_minor": 0,
  "metadata": {
    "colab": {
      "provenance": []
    },
    "kernelspec": {
      "name": "python3",
      "display_name": "Python 3"
    },
    "language_info": {
      "name": "python"
    }
  },
  "cells": [
    {
      "cell_type": "markdown",
      "source": [
        "Program python menghitung total bayar setelah diskon jika syarat terpenuhi.\n"
      ],
      "metadata": {
        "id": "tnuk4hxY7ADg"
      }
    },
    {
      "cell_type": "code",
      "source": [
        "# Program menghitung total bayar setelah diskon\n",
        "\n",
        "total_belanja = float(input(\"Masukkan total belanja: \"))\n",
        "\n",
        "if total_belanja > 500000:\n",
        "    diskon = total_belanja * 0.10\n",
        "    total_bayar = total_belanja - diskon\n",
        "    print(f\"Anda mendapat diskon sebesar Rp{diskon:.2f}\")\n",
        "else:\n",
        "    total_bayar = total_belanja\n",
        "    print(\"Tidak ada diskon.\")\n",
        "\n",
        "print(f\"Total yang harus dibayar: Rp{total_bayar:.2f}\")\n"
      ],
      "metadata": {
        "colab": {
          "base_uri": "https://localhost:8080/"
        },
        "id": "MKaVEwd6_Ozz",
        "outputId": "6e4564fc-54ac-4b06-ec54-533ad8b9d4ae"
      },
      "execution_count": 2,
      "outputs": [
        {
          "output_type": "stream",
          "name": "stdout",
          "text": [
            "Masukkan total belanja: 9000000\n",
            "Anda mendapat diskon sebesar Rp900000.00\n",
            "Total yang harus dibayar: Rp8100000.00\n"
          ]
        }
      ]
    }
  ]
}