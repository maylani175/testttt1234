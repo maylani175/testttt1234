{
  "nbformat": 4,
  "nbformat_minor": 0,
  "metadata": {
    "colab": {
      "provenance": []
    },
    "kernelspec": {
      "name": "python3",
      "display_name": "Python 3"
    },
    "language_info": {
      "name": "python"
    }
  },
  "cells": [
    {
      "cell_type": "markdown",
      "source": [
        "program Python yang menghitung rata-rata dan menampilkan status kelulusan\n"
      ],
      "metadata": {
        "id": "tnuk4hxY7ADg"
      }
    },
    {
      "cell_type": "code",
      "source": [
        "# Program menghitung rata-rata dan status kelulusan\n",
        "\n",
        "# Input nilai 3 mata pelajaran\n",
        "nilai1 = float(input(\"Masukkan nilai mata pelajaran 1: \"))\n",
        "nilai2 = float(input(\"Masukkan nilai mata pelajaran 2: \"))\n",
        "nilai3 = float(input(\"Masukkan nilai mata pelajaran 3: \"))\n",
        "\n",
        "# Hitung rata-rata\n",
        "rata_rata = (nilai1 + nilai2 + nilai3) / 3\n",
        "\n",
        "# Tentukan status kelulusan\n",
        "if rata_rata >= 75:\n",
        "    status = \"Lulus\"\n",
        "else:\n",
        "    status = \"Tidak Lulus\"\n",
        "\n",
        "# Tampilkan hasil\n",
        "print(f\"Rata-rata nilai: {rata_rata:.2f}\")\n",
        "print(f\"Status kelulusan: {status}\")\n"
      ],
      "metadata": {
        "colab": {
          "base_uri": "https://localhost:8080/"
        },
        "id": "Tq9Xnd-DEnT2",
        "outputId": "c860f2ea-9627-4446-e3ac-236123b2036d"
      },
      "execution_count": 4,
      "outputs": [
        {
          "output_type": "stream",
          "name": "stdout",
          "text": [
            "Masukkan nilai mata pelajaran 1: 80\n",
            "Masukkan nilai mata pelajaran 2: 78\n",
            "Masukkan nilai mata pelajaran 3: 85\n",
            "Rata-rata nilai: 81.00\n",
            "Status kelulusan: Lulus\n"
          ]
        }
      ]
    }
  ]
}