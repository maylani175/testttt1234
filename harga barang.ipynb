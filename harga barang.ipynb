{
  "nbformat": 4,
  "nbformat_minor": 0,
  "metadata": {
    "colab": {
      "provenance": []
    },
    "kernelspec": {
      "name": "python3",
      "display_name": "Python 3"
    },
    "language_info": {
      "name": "python"
    }
  },
  "cells": [
    {
      "cell_type": "markdown",
      "source": [
        "Program python untuk membaca harga barang dan menampilkan total pembayaran\n"
      ],
      "metadata": {
        "id": "tnuk4hxY7ADg"
      }
    },
    {
      "cell_type": "code",
      "execution_count": 1,
      "metadata": {
        "colab": {
          "base_uri": "https://localhost:8080/"
        },
        "id": "jurJzRkq69rO",
        "outputId": "379163c7-3f4a-4bd6-88d2-db49fcf816fd"
      },
      "outputs": [
        {
          "output_type": "stream",
          "name": "stdout",
          "text": [
            "Masukkan harga barang ke-1: 800000\n",
            "Masukkan harga barang ke-2: 500000\n",
            "Masukkan harga barang ke-3: 1500000\n",
            "Total pembayaran: 2800000.0\n"
          ]
        }
      ],
      "source": [
        "# Program menghitung total harga 3 barang\n",
        "\n",
        "total_harga = 0\n",
        "\n",
        "for i in range(1, 4):\n",
        "    harga = float(input(f\"Masukkan harga barang ke-{i}: \"))\n",
        "    total_harga += harga\n",
        "\n",
        "print(f\"Total pembayaran: {total_harga}\")\n"
      ]
    }
  ]
}