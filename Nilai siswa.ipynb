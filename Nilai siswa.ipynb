{
  "nbformat": 4,
  "nbformat_minor": 0,
  "metadata": {
    "colab": {
      "provenance": []
    },
    "kernelspec": {
      "name": "python3",
      "display_name": "Python 3"
    },
    "language_info": {
      "name": "python"
    }
  },
  "cells": [
    {
      "cell_type": "markdown",
      "source": [
        " Program python untuk menerima nilai ke dalam list dan menampilkan nilai tertinggi"
      ],
      "metadata": {
        "id": "hxIAAhQ33og6"
      }
    },
    {
      "cell_type": "code",
      "execution_count": 1,
      "metadata": {
        "colab": {
          "base_uri": "https://localhost:8080/"
        },
        "id": "wYdZzjhe3fuf",
        "outputId": "b03cd5fd-4533-42f1-aaae-43de748b1d5f"
      },
      "outputs": [
        {
          "output_type": "stream",
          "name": "stdout",
          "text": [
            "Masukkan nilai siswa ke-1: 88\n",
            "Masukkan nilai siswa ke-2: 92\n",
            "Masukkan nilai siswa ke-3: 80\n",
            "Masukkan nilai siswa ke-4: 98\n",
            "Masukkan nilai siswa ke-5: 100\n",
            "Nilai tertinggi adalah 100.0 yang diperoleh siswa ke-5\n"
          ]
        }
      ],
      "source": [
        "# Program input nilai siswa dan menampilkan nilai tertinggi beserta nomor siswa\n",
        "\n",
        "nilai_siswa = []\n",
        "\n",
        "# Input nilai 5 siswa\n",
        "for i in range(5):\n",
        "    nilai = float(input(f\"Masukkan nilai siswa ke-{i+1}: \"))\n",
        "    nilai_siswa.append(nilai)\n",
        "\n",
        "# Cari nilai tertinggi\n",
        "nilai_tertinggi = max(nilai_siswa)\n",
        "\n",
        "# Cari indeks siswa dengan nilai tertinggi (jika lebih dari satu, ambil yang pertama)\n",
        "nomor_siswa = nilai_siswa.index(nilai_tertinggi) + 1\n",
        "\n",
        "print(f\"Nilai tertinggi adalah {nilai_tertinggi} yang diperoleh siswa ke-{nomor_siswa}\")\n",
        "\n"
      ]
    }
  ]
}